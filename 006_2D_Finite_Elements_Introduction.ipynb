{
 "cells": [
  {
   "cell_type": "markdown",
   "metadata": {},
   "source": [
    "### Barycentric coordinates and shape functions: \n",
    "The barycentric coordinates for a general point in a canonical triangle ($\\hat{\\mathcal{T}}$) can be readily deduced as: $\\xi_1 = \\xi$, $\\xi_2 = \\eta$, and $\\xi_3 = 1 - \\xi - \\eta$. Take any point with coordinates $(\\xi, \\eta)$ and take the ratio of the area of triangle formed by the point and any two vertices of the triangle and the area of the entire canonical element $\\hat{\\mathcal{T}}$. "
   ]
  },
  {
   "cell_type": "code",
   "execution_count": 1,
   "metadata": {},
   "outputs": [],
   "source": [
    "import numpy as np\n",
    "import matplotlib.pyplot as plt\n",
    "from mpl_toolkits.mplot3d import Axes3D\n",
    "from matplotlib import cm"
   ]
  },
  {
   "cell_type": "code",
   "execution_count": 2,
   "metadata": {},
   "outputs": [],
   "source": [
    "from sympy import Symbol, symbols, simplify, lambdify, init_printing, diff\n",
    "from sympy.plotting import plot3d"
   ]
  },
  {
   "cell_type": "code",
   "execution_count": 3,
   "metadata": {},
   "outputs": [],
   "source": [
    "xi, eta = symbols(\"xi, eta\", real=True)"
   ]
  },
  {
   "cell_type": "code",
   "execution_count": null,
   "metadata": {},
   "outputs": [],
   "source": [
    "N1 = xi\n",
    "N2= eta\n",
    "N3 = 1 -xi - eta"
   ]
  },
  {
   "cell_type": "code",
   "execution_count": null,
   "metadata": {},
   "outputs": [],
   "source": [
    "# Linear basis\n",
    "plot3d(N1, (xi, 0, 1), (eta, 0, 1))\n",
    "plot3d(N2, (xi, 0, 1), (eta, 0, 1))\n",
    "plot3d(N3, (xi, 0, 1), (eta, 0, 1))"
   ]
  },
  {
   "cell_type": "code",
   "execution_count": null,
   "metadata": {},
   "outputs": [],
   "source": [
    "# Modified basis\n",
    "plot3d(-N1 *(1-2*xi-2*eta), (xi,0, 1), (eta, 0, 1))"
   ]
  },
  {
   "cell_type": "code",
   "execution_count": null,
   "metadata": {},
   "outputs": [],
   "source": [
    "p1 = plot3d(-N2 *(1-2*xi-2*eta), (xi,0, 1), (eta, 0, 1))\n",
    "p1._backend.ax[0].collections[0].set_cmap(cm.jet)"
   ]
  },
  {
   "cell_type": "code",
   "execution_count": 3,
   "metadata": {},
   "outputs": [],
   "source": [
    "from sympy import solve_linear_system, Matrix, symbols, init_printing, simplify\n",
    "init_printing()"
   ]
  },
  {
   "cell_type": "markdown",
   "metadata": {},
   "source": [
    "### Problem 1: constant derivatives"
   ]
  },
  {
   "cell_type": "code",
   "execution_count": 4,
   "metadata": {},
   "outputs": [],
   "source": [
    "x, y, xi, eta, x1, x2, x3, y1, y2, y3 = symbols(\"x, y, xi, eta, x1, x2, x3, y1, y2, y3\", ral=True)\n",
    "system = Matrix(((x1 - x3, x2 - x3, x - x3), (y1 - y3, y2 - y3, y - y3)))\n",
    "soln = solve_linear_system(system, xi, eta)"
   ]
  },
  {
   "cell_type": "code",
   "execution_count": 5,
   "metadata": {},
   "outputs": [],
   "source": [
    "xi = simplify(xi.subs(soln))"
   ]
  },
  {
   "cell_type": "code",
   "execution_count": 6,
   "metadata": {},
   "outputs": [],
   "source": [
    "eta = simplify(eta.subs(soln))"
   ]
  },
  {
   "cell_type": "code",
   "execution_count": 7,
   "metadata": {},
   "outputs": [],
   "source": [
    "N1 = xi\n",
    "N2 = eta\n",
    "N3 = 1-xi-eta"
   ]
  },
  {
   "cell_type": "code",
   "execution_count": 8,
   "metadata": {},
   "outputs": [],
   "source": [
    "N1 *= (2*xi + 2*eta - 1)\n",
    "N2 *= (2*xi + 2*eta - 1)\n",
    "N3 *= (1-2*xi - 2*eta)\n",
    "N4 = (1-xi-eta) * 4*eta\n",
    "N5 = (1-xi-eta) * 4*xi"
   ]
  },
  {
   "cell_type": "code",
   "execution_count": 9,
   "metadata": {},
   "outputs": [
    {
     "data": {
      "image/png": "[encoded data removed]",
      "text/latex": [
       "$\\displaystyle x$"
      ],
      "text/plain": [
       "x"
      ]
     },
     "execution_count": 9,
     "metadata": {},
     "output_type": "execute_result"
    }
   ],
   "source": [
    "x4 = (x3 + x2)/2\n",
    "x5 = (x1 + x3)/2\n",
    "\n",
    "y4 = (y3 + y2)/2\n",
    "y5 = (y1 + y3)/2\n",
    "\n",
    "simplify(N1*x1 + N2*x2 + N3*x3 + N4*x4 + N5*x5)"
   ]
  },
  {
   "cell_type": "code",
   "execution_count": 10,
   "metadata": {},
   "outputs": [
    {
     "data": {
      "image/png": "[encoded data removed]",
      "text/latex": [
       "$\\displaystyle y$"
      ],
      "text/plain": [
       "y"
      ]
     },
     "execution_count": 10,
     "metadata": {},
     "output_type": "execute_result"
    }
   ],
   "source": [
    "simplify(N1*y1 + N2*y2 + N3*y3 + N4*y4 + N5*y5)"
   ]
  },
  {
   "cell_type": "code",
   "execution_count": 27,
   "metadata": {},
   "outputs": [],
   "source": [
    "from sympy import Array, tensorproduct, flatten, transpose\n",
    "xi, eta = symbols(\"xi, eta\", real=True)"
   ]
  },
  {
   "cell_type": "code",
   "execution_count": 19,
   "metadata": {},
   "outputs": [],
   "source": [
    "N2L = lambda x: Array([x*(x-1)/2, (1-x**2), x*(x+1)/2])\n",
    "shp = tensorproduct(N2L(xi), N2L(eta))"
   ]
  },
  {
   "cell_type": "code",
   "execution_count": 20,
   "metadata": {},
   "outputs": [
    {
     "data": {
      "image/png": "[encoded data removed]",
      "text/latex": [
       "$\\displaystyle \\left[\\begin{matrix}\\frac{\\eta \\xi \\left(\\eta - 1\\right) \\left(\\xi - 1\\right)}{4} & \\frac{\\xi \\left(1 - \\eta^{2}\\right) \\left(\\xi - 1\\right)}{2} & \\frac{\\eta \\xi \\left(\\eta + 1\\right) \\left(\\xi - 1\\right)}{4}\\\\\\frac{\\eta \\left(1 - \\xi^{2}\\right) \\left(\\eta - 1\\right)}{2} & \\left(1 - \\eta^{2}\\right) \\left(1 - \\xi^{2}\\right) & \\frac{\\eta \\left(1 - \\xi^{2}\\right) \\left(\\eta + 1\\right)}{2}\\\\\\frac{\\eta \\xi \\left(\\eta - 1\\right) \\left(\\xi + 1\\right)}{4} & \\frac{\\xi \\left(1 - \\eta^{2}\\right) \\left(\\xi + 1\\right)}{2} & \\frac{\\eta \\xi \\left(\\eta + 1\\right) \\left(\\xi + 1\\right)}{4}\\end{matrix}\\right]$"
      ],
      "text/plain": [
       "⎡                       ⎛     2⎞                             ⎤\n",
       "⎢η⋅ξ⋅(η - 1)⋅(ξ - 1)  ξ⋅⎝1 - η ⎠⋅(ξ - 1)  η⋅ξ⋅(η + 1)⋅(ξ - 1)⎥\n",
       "⎢───────────────────  ──────────────────  ───────────────────⎥\n",
       "⎢         4                   2                    4         ⎥\n",
       "⎢                                                            ⎥\n",
       "⎢  ⎛     2⎞                                 ⎛     2⎞         ⎥\n",
       "⎢η⋅⎝1 - ξ ⎠⋅(η - 1)   ⎛     2⎞ ⎛     2⎞   η⋅⎝1 - ξ ⎠⋅(η + 1) ⎥\n",
       "⎢──────────────────   ⎝1 - η ⎠⋅⎝1 - ξ ⎠   ────────────────── ⎥\n",
       "⎢        2                                        2          ⎥\n",
       "⎢                                                            ⎥\n",
       "⎢                       ⎛     2⎞                             ⎥\n",
       "⎢η⋅ξ⋅(η - 1)⋅(ξ + 1)  ξ⋅⎝1 - η ⎠⋅(ξ + 1)  η⋅ξ⋅(η + 1)⋅(ξ + 1)⎥\n",
       "⎢───────────────────  ──────────────────  ───────────────────⎥\n",
       "⎣         4                   2                    4         ⎦"
      ]
     },
     "execution_count": 20,
     "metadata": {},
     "output_type": "execute_result"
    }
   ],
   "source": [
    "shp"
   ]
  },
  {
   "cell_type": "code",
   "execution_count": 30,
   "metadata": {},
   "outputs": [],
   "source": [
    "xv = Array([Symbol(\"x_{}\".format(i+1)) for i in range(9)])\n",
    "yv = Array([Symbol(\"y_{}\".format(i+1)) for i in range(9)])"
   ]
  },
  {
   "cell_type": "code",
   "execution_count": 42,
   "metadata": {},
   "outputs": [],
   "source": [
    "x = simplify(Matrix(flatten(transpose(shp))).dot(xv))\n",
    "y = simplify(Matrix(flatten(transpose(shp))).dot(yv))"
   ]
  },
  {
   "cell_type": "code",
   "execution_count": 55,
   "metadata": {},
   "outputs": [],
   "source": [
    "J = simplify(Matrix([[x.diff(xi), x.diff(eta)], [y.diff(xi), y.diff(eta)]]))"
   ]
  },
  {
   "cell_type": "code",
   "execution_count": 56,
   "metadata": {},
   "outputs": [],
   "source": [
    "J_00 = simplify(J.det())"
   ]
  },
  {
   "cell_type": "code",
   "execution_count": 57,
   "metadata": {},
   "outputs": [],
   "source": [
    "J_00 = J_00.subs([(xi, 0), (eta, 0)])"
   ]
  },
  {
   "cell_type": "code",
   "execution_count": 60,
   "metadata": {},
   "outputs": [
    {
     "data": {
      "image/png": "[encoded data removed]",
      "text/latex": [
       "$\\displaystyle - \\left(x_{2} - x_{8}\\right) \\left(y_{4} - y_{6}\\right) + \\left(x_{4} - x_{6}\\right) \\left(y_{2} - y_{8}\\right)$"
      ],
      "text/plain": [
       "-(x₂ - x₈)⋅(y₄ - y₆) + (x₄ - x₆)⋅(y₂ - y₈)"
      ]
     },
     "execution_count": 60,
     "metadata": {},
     "output_type": "execute_result"
    }
   ],
   "source": [
    "simplify(4*J_00)"
   ]
  },
  {
   "cell_type": "code",
   "execution_count": null,
   "metadata": {},
   "outputs": [],
   "source": []
  }
 ],
 "metadata": {
  "kernelspec": {
   "display_name": "Python 3",
   "language": "python",
   "name": "python3"
  },
  "language_info": {
   "codemirror_mode": {
    "name": "ipython",
    "version": 3
   },
   "file_extension": ".py",
   "mimetype": "text/x-python",
   "name": "python",
   "nbconvert_exporter": "python",
   "pygments_lexer": "ipython3",
   "version": "3.6.9"
  }
 },
 "nbformat": 4,
 "nbformat_minor": 2
}
