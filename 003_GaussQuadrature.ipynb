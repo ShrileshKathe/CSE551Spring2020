{
 "cells": [
  {
   "cell_type": "markdown",
   "metadata": {},
   "source": [
    "Determine Gauss points $(\\xi _j)$ and weights $(\\omega_j)$ to integrate polynomials"
   ]
  },
  {
   "cell_type": "code",
   "execution_count": 15,
   "metadata": {},
   "outputs": [],
   "source": [
    "from sympy import integrate, diff, simplify, init_printing, Symbol\n",
    "init_printing()"
   ]
  },
  {
   "cell_type": "code",
   "execution_count": 3,
   "metadata": {},
   "outputs": [],
   "source": [
    "import numpy as np\n",
    "from numpy.polynomial.legendre import leggauss"
   ]
  },
  {
   "cell_type": "code",
   "execution_count": 39,
   "metadata": {},
   "outputs": [],
   "source": [
    "def polyM(x, m):\n",
    "    return sum([x**i for i in range(m+1)])\n",
    "\n",
    "def integrate_polyM(x, m):\n",
    "    return [integrate(x**i, (x,-1, 1)) for i in range(m+1)]\n",
    "\n",
    "def monoM(x, m):\n",
    "    return x**(m)\n",
    "\n",
    "def integrate_monoM(x, m):\n",
    "    return integrate(x**m, (x, -1, 1))"
   ]
  },
  {
   "cell_type": "code",
   "execution_count": 11,
   "metadata": {},
   "outputs": [],
   "source": [
    "xi = Symbol(\"xi\", real=True)"
   ]
  },
  {
   "cell_type": "code",
   "execution_count": 27,
   "metadata": {},
   "outputs": [
    {
     "data": {
      "image/png": "[encoded data removed]",
      "text/latex": [
       "$$\\xi^{2}$$"
      ],
      "text/plain": [
       " 2\n",
       "ξ "
      ]
     },
     "execution_count": 27,
     "metadata": {},
     "output_type": "execute_result"
    }
   ],
   "source": [
    "monoM(xi,2)"
   ]
  },
  {
   "cell_type": "code",
   "execution_count": 23,
   "metadata": {},
   "outputs": [
    {
     "data": {
      "image/png": "[encoded data removed]",
      "text/latex": [
       "$$\\left [ 2, \\quad 0, \\quad \\frac{2}{3}\\right ]$$"
      ],
      "text/plain": [
       "[2, 0, 2/3]"
      ]
     },
     "execution_count": 23,
     "metadata": {},
     "output_type": "execute_result"
    }
   ],
   "source": [
    "integrate_polyM(xi, 2) #integrate monomials upto degree m"
   ]
  },
  {
   "cell_type": "code",
   "execution_count": 43,
   "metadata": {},
   "outputs": [],
   "source": [
    "def func(z, m):\n",
    "    ngp = (m+1)//2 #number of gauss points required to integrate degree m poly\n",
    "    wghts, pts = z[:ngp], z[ngp:]\n",
    "    arr = [float(integrate_monoM(xi, k)) - wghts @ pts**(k) for k in range(m+1)]\n",
    "    return arr"
   ]
  },
  {
   "cell_type": "code",
   "execution_count": 29,
   "metadata": {},
   "outputs": [],
   "source": [
    "from scipy.optimize import root"
   ]
  },
  {
   "cell_type": "code",
   "execution_count": 47,
   "metadata": {},
   "outputs": [
    {
     "data": {
      "image/png": "[encoded data removed]",
      "text/latex": [
       "$$\\left [ -4.440892098500626e-16, \\quad 0.0, \\quad -3.3306690738754696e-16, \\quad 0.0, \\quad -1.1102230246251565e-16, \\quad 0.0\\right ]$$"
      ],
      "text/plain": [
       "[-4.440892098500626e-16, 0.0, -3.3306690738754696e-16, 0.0, -1.110223024625156\n",
       "5e-16, 0.0]"
      ]
     },
     "execution_count": 47,
     "metadata": {},
     "output_type": "execute_result"
    }
   ],
   "source": [
    "pts, wg = leggauss(3)\n",
    "zv = np.hstack((wg, pts))\n",
    "func(zv, 5)\n",
    "# integrate_polyM(xi, 1)"
   ]
  },
  {
   "cell_type": "code",
   "execution_count": 51,
   "metadata": {},
   "outputs": [
    {
     "data": {
      "text/plain": [
       "array([ 8.88888889e-01,  5.55555556e-01,  5.55555556e-01,  2.72132732e-12,\n",
       "        7.74596669e-01, -7.74596669e-01])"
      ]
     },
     "execution_count": 51,
     "metadata": {},
     "output_type": "execute_result"
    }
   ],
   "source": [
    "root(func, np.zeros(6), args=(5)).x"
   ]
  },
  {
   "cell_type": "code",
   "execution_count": 52,
   "metadata": {},
   "outputs": [
    {
     "data": {
      "text/plain": [
       "array([-0.77459667,  0.        ,  0.77459667])"
      ]
     },
     "execution_count": 52,
     "metadata": {},
     "output_type": "execute_result"
    }
   ],
   "source": [
    "pts"
   ]
  },
  {
   "cell_type": "code",
   "execution_count": 53,
   "metadata": {},
   "outputs": [
    {
     "data": {
      "text/plain": [
       "array([0.55555556, 0.88888889, 0.55555556])"
      ]
     },
     "execution_count": 53,
     "metadata": {},
     "output_type": "execute_result"
    }
   ],
   "source": [
    "wg"
   ]
  },
  {
   "cell_type": "code",
   "execution_count": null,
   "metadata": {},
   "outputs": [],
   "source": []
  }
 ],
 "metadata": {
  "kernelspec": {
   "display_name": "Python 3",
   "language": "python",
   "name": "python3"
  },
  "language_info": {
   "codemirror_mode": {
    "name": "ipython",
    "version": 3
   },
   "file_extension": ".py",
   "mimetype": "text/x-python",
   "name": "python",
   "nbconvert_exporter": "python",
   "pygments_lexer": "ipython3",
   "version": "3.6.9"
  }
 },
 "nbformat": 4,
 "nbformat_minor": 2
}
