{
 "cells": [
  {
   "cell_type": "code",
   "execution_count": 12,
   "metadata": {},
   "outputs": [],
   "source": [
    "import numpy as np\n",
    "from sympy import Symbol, symbols, diff, simplify, lambdify, Array, init_printing, solve_linear_system, Matrix, init_printing\n",
    "import matplotlib.pyplot as plt\n",
    "from jupyterthemes import jtplot\n",
    "jtplot.style()\n",
    "plt.rc('text', usetex=True)\n",
    "plt.rcParams['font.weight'] = 700\n",
    "plt.rcParams['xtick.top']='True'\n",
    "plt.rcParams['xtick.direction']='in'\n",
    "plt.rcParams['ytick.right']='True'\n",
    "plt.rcParams['ytick.direction']='in'\n",
    "plt.rcParams['ytick.labelsize']=22\n",
    "plt.rcParams['xtick.labelsize']=22\n",
    "plt.rcParams['xtick.minor.visible']=True\n",
    "plt.rcParams['ytick.minor.visible']=True\n",
    "plt.rcParams['xtick.major.size']=6\n",
    "plt.rcParams['xtick.minor.size']=3\n",
    "plt.rcParams['ytick.major.size']=6\n",
    "plt.rcParams['ytick.minor.size']=3\n",
    "plt.rcParams['lines.markersize']=np.sqrt(36)\n",
    "plt.rc('text',usetex=True)\n",
    "plt.rcParams['text.latex.preamble']=[r\"\\usepackage{amsmath,amsfonts,amssymb,bm}\"]"
   ]
  },
  {
   "cell_type": "code",
   "execution_count": null,
   "metadata": {},
   "outputs": [],
   "source": [
    "class basis(): # defined on the canonical (master) element (1D : [-1,1] ) \n",
    "    def __init__(self,deg,basis_type):\n",
    "        deg = int(deg)\n",
    "        if basis_type == 'L':          # 1D Lagrange basis of degree `deg`\n",
    "            z=Symbol('z')\n",
    "            Xi=np.linspace(-1,3,deg+1) # note the end point \n",
    "            def lag_basis(k):   #basically change this\n",
    "                n = 1.\n",
    "                for i in range(len(Xi)):\n",
    "                    if k != i:\n",
    "                        n *= (z-Xi[i])/(Xi[k]-Xi[i])\n",
    "                return n\n",
    "            N = Array([simplify(lag_basis(m)) for m in range(deg+1)])            \n",
    "            dfN = diff(N,z)+1.e-25*N #for shape consistency\n",
    "            self.Ns=lambdify(z, N, \"numpy\")\n",
    "            self.dN=lambdify(z, dfN, \"numpy\")\n",
    "            self.enrich = 1  #enriched dofs (not needed for lagrange elements)"
   ]
  },
  {
   "cell_type": "code",
   "execution_count": null,
   "metadata": {},
   "outputs": [],
   "source": [
    "elem = \"L\" #L -- lagrange polynomials\n",
    "deg = 4\n",
    "nBasis = basis(deg, elem)"
   ]
  },
  {
   "cell_type": "code",
   "execution_count": null,
   "metadata": {},
   "outputs": [],
   "source": [
    "xv = np.linspace(-1,3,101)\n",
    "N = nBasis.Ns(xv)\n",
    "dN = nBasis.dN(xv)"
   ]
  },
  {
   "cell_type": "code",
   "execution_count": null,
   "metadata": {},
   "outputs": [],
   "source": [
    "plt.figure(figsize=(10,8))\n",
    "for i, phi in enumerate(np.array(N)):\n",
    "    plt.plot(xv, phi, \"-o\", lw=2, label=r\"$\\phi_{}$\".format(i+1), markevery=25)\n",
    "plt.legend(loc=0, ncol=5, fontsize=22, fancybox=False, edgecolor=\"k\", bbox_to_anchor=(1.12,1.12))"
   ]
  },
  {
   "cell_type": "code",
   "execution_count": null,
   "metadata": {},
   "outputs": [],
   "source": [
    "uvals = 10**(-3)*np.array([1., 0, 1, 3, 4])"
   ]
  },
  {
   "cell_type": "code",
   "execution_count": null,
   "metadata": {},
   "outputs": [],
   "source": [
    "udisp = np.array(N).T @ uvals"
   ]
  },
  {
   "cell_type": "code",
   "execution_count": null,
   "metadata": {},
   "outputs": [],
   "source": [
    "plt.figure(figsize=(10,8))\n",
    "plt.plot(xv, udisp, lw=2, label=r\"$u^h(x)$\")\n",
    "plt.legend(loc=0, fontsize=24)"
   ]
  },
  {
   "cell_type": "code",
   "execution_count": null,
   "metadata": {},
   "outputs": [],
   "source": [
    "epsDIsp = np.array(dN).T @ uvals"
   ]
  },
  {
   "cell_type": "code",
   "execution_count": null,
   "metadata": {},
   "outputs": [],
   "source": [
    "plt.figure(figsize=(10,8))\n",
    "plt.plot(xv, epsDIsp, lw=2, label=r\"$\\varepsilon^h(x)$\")\n",
    "plt.legend(loc=0, fontsize=24)"
   ]
  },
  {
   "cell_type": "markdown",
   "metadata": {},
   "source": [
    "$C^1$: Hermite basis functions in $1D$"
   ]
  },
  {
   "cell_type": "code",
   "execution_count": 2,
   "metadata": {},
   "outputs": [],
   "source": [
    "# Calculations for N1\n",
    "a0, a1, a2, a3 = symbols(\"a0 a1 a2, a3\", real=True)\n",
    "xe1, xe2, z = symbols(\"xe_1, xe_2, xi\", real=True)"
   ]
  },
  {
   "cell_type": "code",
   "execution_count": 3,
   "metadata": {},
   "outputs": [],
   "source": [
    "# N1\n",
    "sys1 = solve_linear_system(Matrix([[1, xe1, xe1**2, xe1**3, 1],\n",
    "                                   [0, 1, 2*xe1, 3*xe1**2, 0],\n",
    "                                   [1, xe2, xe2**2, xe2**3, 0],\n",
    "                                   [0, 1, 2*xe2, 3*xe2**2, 0] ]),a0,a1,a2,a3)"
   ]
  },
  {
   "cell_type": "code",
   "execution_count": 4,
   "metadata": {},
   "outputs": [],
   "source": [
    "a0 = simplify(a0.subs(sys1))\n",
    "a1 = simplify(a1.subs(sys1))\n",
    "a2 = simplify(a2.subs(sys1))\n",
    "a3 = simplify(a3.subs(sys1))"
   ]
  },
  {
   "cell_type": "code",
   "execution_count": 5,
   "metadata": {},
   "outputs": [],
   "source": [
    "# a0 = a0.subs([(xe1,-1), (xe2, 1)])\n",
    "# a1 = a1.subs([(xe1,-1), (xe2, 1)])\n",
    "# a2 = a2.subs([(xe1,-1), (xe2, 1)])\n",
    "# a3 = a3.subs([(xe1,-1), (xe2, 1)])"
   ]
  },
  {
   "cell_type": "code",
   "execution_count": 6,
   "metadata": {},
   "outputs": [],
   "source": [
    "# Ntilde_1\n",
    "b0 , b1, b2, b3 = symbols(\"b0, b1, b2, b3\")\n",
    "sys2 = solve_linear_system(Matrix([[1, xe1, xe1**2, xe1**3, 0],\n",
    "                                   [0, 1, 2*xe1, 3*xe1**2, 1],\n",
    "                                   [1, xe2, xe2**2, xe2**3, 0],\n",
    "                                   [0, 1, 2*xe2, 3*xe2**2, 0] ]),b0,b1,b2,b3)"
   ]
  },
  {
   "cell_type": "code",
   "execution_count": 7,
   "metadata": {},
   "outputs": [],
   "source": [
    "b0 = simplify(b0.subs(sys2))\n",
    "b1 = simplify(b1.subs(sys2))\n",
    "b2 = simplify(b2.subs(sys2))\n",
    "b3 = simplify(b3.subs(sys2))\n",
    "\n",
    "# b0 = b0.subs([(xe1,-1), (xe2, 1)])\n",
    "# b1 = b1.subs([(xe1,-1), (xe2, 1)])\n",
    "# b2 = b2.subs([(xe1,-1), (xe2, 1)])\n",
    "# b3 = b3.subs([(xe1,-1), (xe2, 1)])"
   ]
  },
  {
   "cell_type": "code",
   "execution_count": 13,
   "metadata": {},
   "outputs": [],
   "source": [
    "init_printing()"
   ]
  },
  {
   "cell_type": "code",
   "execution_count": 20,
   "metadata": {},
   "outputs": [],
   "source": [
    "N1subs = simplify(a0 + a1 * z + a2 * z**2 + a3 * z**3)\n",
    "N1plot = lambdify([z, xe1, xe2], N1subs, \"numpy\")"
   ]
  },
  {
   "cell_type": "code",
   "execution_count": 9,
   "metadata": {},
   "outputs": [],
   "source": [
    "from sympy.plotting import plot as symplot"
   ]
  },
  {
   "cell_type": "code",
   "execution_count": 22,
   "metadata": {},
   "outputs": [
    {
     "data": {
      "text/plain": [
       "[<matplotlib.lines.Line2D at 0x7fe88afb8978>]"
      ]
     },
     "execution_count": 22,
     "metadata": {},
     "output_type": "execute_result"
    },
    {
     "data": {
      "image/png": "[encoded data removed]",
      "text/plain": [
       "<Figure size 460.8x403.2 with 1 Axes>"
      ]
     },
     "metadata": {},
     "output_type": "display_data"
    }
   ],
   "source": [
    "xe1 = -1\n",
    "xe2 = 3\n",
    "xv = np.linspace(xe1, xe2, 101)\n",
    "plt.plot(xv, N1plot(xv, xe1, xe2))"
   ]
  },
  {
   "cell_type": "code",
   "execution_count": null,
   "metadata": {},
   "outputs": [],
   "source": [
    "xv = np.linspace(-1, 1, 101)\n",
    "N1plot = float(a0) + float(a1)*xv + float(a2)*xv**2 + float(a3)*xv**3\n",
    "N1tilde = float(b0) + float(b1)*xv + float(b2)*xv**2 + float(b3)*xv**3\n",
    "plt.figure()\n",
    "plt.plot(xv, N1plot, lw=2, label=r\"$N_1(x)$\")\n",
    "plt.plot(xv, N1tilde, lw=2, label=r\"$\\widetilde{N}_1(x)$\")\n",
    "plt.legend(loc=0, fontsize=22)"
   ]
  },
  {
   "cell_type": "code",
   "execution_count": null,
   "metadata": {},
   "outputs": [],
   "source": [
    "from numpy.polynomial.legendre import leggauss"
   ]
  },
  {
   "cell_type": "code",
   "execution_count": null,
   "metadata": {},
   "outputs": [],
   "source": [
    "gps, weights = leggauss(4)"
   ]
  },
  {
   "cell_type": "code",
   "execution_count": null,
   "metadata": {},
   "outputs": [],
   "source": [
    "weights"
   ]
  },
  {
   "cell_type": "code",
   "execution_count": null,
   "metadata": {},
   "outputs": [],
   "source": [
    "gps"
   ]
  },
  {
   "cell_type": "code",
   "execution_count": null,
   "metadata": {},
   "outputs": [],
   "source": []
  }
 ],
 "metadata": {
  "kernelspec": {
   "display_name": "Python 3",
   "language": "python",
   "name": "python3"
  },
  "language_info": {
   "codemirror_mode": {
    "name": "ipython",
    "version": 3
   },
   "file_extension": ".py",
   "mimetype": "text/x-python",
   "name": "python",
   "nbconvert_exporter": "python",
   "pygments_lexer": "ipython3",
   "version": "3.6.9"
  }
 },
 "nbformat": 4,
 "nbformat_minor": 2
}
