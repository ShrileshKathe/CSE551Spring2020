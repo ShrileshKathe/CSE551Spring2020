{
 "cells": [
  {
   "cell_type": "code",
   "execution_count": 2,
   "metadata": {},
   "outputs": [],
   "source": [
    "from sympy import init_printing, Symbol, Matrix, simplify, lambdify, Array, diff, integrate\n",
    "init_printing()"
   ]
  },
  {
   "cell_type": "markdown",
   "metadata": {},
   "source": [
    "## Hint for problem 1 -- definite integration"
   ]
  },
  {
   "cell_type": "markdown",
   "metadata": {},
   "source": [
    "Given equation\n",
    "$$ \\frac{d}{dx}\\left( EA(x) \\frac{du}{dx}\\right) + b(x) = 0,\\quad u(1) = u(5) = 0$$"
   ]
  },
  {
   "cell_type": "markdown",
   "metadata": {},
   "source": [
    "where \n",
    "$$A(x) = \\begin{cases} 0.1, & 1\\leq x < 3 \\\\ 0.5(x-1), & 3 \\leq x \\leq 5\\end{cases} $$ "
   ]
  },
  {
   "cell_type": "markdown",
   "metadata": {},
   "source": [
    "and $$ b(x) = \\begin{cases}\n",
    "10, & 1\\leq x \\leq 3, \\\\\n",
    "0, & 3 < x \\leq 5,\n",
    "\\end{cases} + \\frac{P}{l_0}\\delta\\left({x-3}\\right)\n",
    "$$"
   ]
  },
  {
   "cell_type": "markdown",
   "metadata": {},
   "source": [
    "Hint: use both the dirichlet boundaries for integration. One of them will lead to the solution of a constant of integration, i.e. \n",
    "$$ EA(x) \\frac{du}{dx}(x) - EA(1)\\frac{du}{dx}(1) = -\\int_{1}^x b(\\xi)d\\xi$$\n",
    "which implies \n",
    "$$ \\frac{du}{dx} = -\\frac{1}{EA(x)}\\int_{1}^x b(\\xi)d\\xi + \\frac{0.1}{A(x)}c_1\\qquad \\because u'(1) = c_1$$\n",
    "and\n",
    "$$ u(x) = \n",
    "- \\int_5^x \\frac{1}{EA(r)}\\left(\\int_{1}^r b(\\xi)d\\xi\\right) dr + c_1\\int_5^x \\frac{0.1}{A(r)}dr\n",
    "$$\n",
    "Furthermore $u(1) = 0$, which gives\n",
    "$$c_1 \n",
    "= \\dfrac{\\displaystyle\\int_5^1 \\dfrac{1}{EA(r)}\\left(\\int_{1}^r b(\\xi)d\\xi\\right) dr}{\\displaystyle\\int_5^1 \\dfrac{0.1}{A(r)}dr}\n",
    "$$"
   ]
  },
  {
   "cell_type": "code",
   "execution_count": 2,
   "metadata": {},
   "outputs": [],
   "source": [
    "from sympy import Heaviside, symbols, Piecewise\n",
    "x, r, xi = symbols(\"x, r, xi\", real=True)"
   ]
  },
  {
   "cell_type": "code",
   "execution_count": null,
   "metadata": {},
   "outputs": [],
   "source": [
    "area = lambda x: Piecewise((0.1, 1 <= x <3), (0.5*(x-1), 3 < x <= 5))\n",
    "bodyForce = lambda x: Piecewise((10, 1 <= x <3), (0, 3 < x <= 5))\n",
    "innerIntegral = lambda x: "
   ]
  },
  {
   "cell_type": "code",
   "execution_count": 1,
   "metadata": {},
   "outputs": [],
   "source": [
    "import numpy as np\n",
    "import numpy.linalg as nla\n",
    "import matplotlib.pyplot as plt\n",
    "from scipy.interpolate import splrep, splev\n",
    "from scipy.integrate import quad\n",
    "init_printing()\n",
    "plt.rc('text', usetex=True)\n",
    "from jupyterthemes import jtplot  # this requires jupyterthemes to be installed\n",
    "jtplot.style()"
   ]
  },
  {
   "cell_type": "code",
   "execution_count": 3,
   "metadata": {},
   "outputs": [],
   "source": [
    "Piecewise?"
   ]
  },
  {
   "cell_type": "code",
   "execution_count": null,
   "metadata": {},
   "outputs": [],
   "source": []
  },
  {
   "cell_type": "code",
   "execution_count": 2,
   "metadata": {},
   "outputs": [],
   "source": [
    "plt.rcParams['font.weight'] = 700\n",
    "plt.rcParams['xtick.top']='True'\n",
    "plt.rcParams['xtick.direction']='in'\n",
    "plt.rcParams['ytick.right']='True'\n",
    "plt.rcParams['ytick.direction']='in'\n",
    "plt.rcParams['ytick.labelsize']=22\n",
    "plt.rcParams['xtick.labelsize']=22\n",
    "plt.rcParams['xtick.minor.visible']=True\n",
    "plt.rcParams['ytick.minor.visible']=True\n",
    "plt.rcParams['xtick.major.size']=6\n",
    "plt.rcParams['xtick.minor.size']=3\n",
    "plt.rcParams['ytick.major.size']=6\n",
    "plt.rcParams['ytick.minor.size']=3\n",
    "plt.rcParams['lines.markersize']=np.sqrt(36)\n",
    "plt.rc('text',usetex=True)\n",
    "plt.rcParams['text.latex.preamble']=[r\"\\usepackage{amsmath,amsfonts,amssymb,bm}\"]"
   ]
  },
  {
   "cell_type": "code",
   "execution_count": 3,
   "metadata": {},
   "outputs": [],
   "source": [
    "# geometry and material parameters\n",
    "class geometry():\n",
    "    def __init__(self, ne, deg):\n",
    "        self.L = 1.\n",
    "        self.g = 9.81\n",
    "        self.A = 10**-4*np.pi\n",
    "        self.m = 320.\n",
    "        self.C = 0.\n",
    "        self.nNNodes=int(ne*deg+1)   #Isoparametric deg-th order lagrange elements\n",
    "        self.ndim=1\n",
    "        self.nLNodes=ne+1       #Linear elements\n",
    "        self.nQNodes=2*ne+1\n",
    "\n",
    "class GPXi():\n",
    "    def __init__(self, ordr):\n",
    "        from numpy.polynomial.legendre import leggauss  #Gauss-Legendre Quadrature for 1D\n",
    "        self.xi=leggauss(ordr)[0]\n",
    "        self.wght=leggauss(ordr)[1]\n",
    "\n",
    "class basis(): # defined on the canonical (master) element (1D : [-1,1] ) \n",
    "    def __init__(self,deg,basis_type):\n",
    "        deg = int(deg)\n",
    "        if basis_type == 'L':          # 1D Lagrange basis of degree `deg`\n",
    "            z=Symbol('z')\n",
    "            Xi=np.linspace(-1,1,deg+1)\n",
    "            def lag_basis(k):\n",
    "                n = 1.\n",
    "                for i in range(len(Xi)):\n",
    "                    if k != i:\n",
    "                        n *= (z-Xi[i])/(Xi[k]-Xi[i])\n",
    "                return n\n",
    "            N = Array([simplify(lag_basis(m)) for m in range(deg+1)])            \n",
    "            dfN = diff(N,z)+1.e-25*N\n",
    "            self.Ns=lambdify(z, N, \"numpy\")\n",
    "            self.dN=lambdify(z, dfN, \"numpy\")\n",
    "            self.enrich = 1  #enriched dofs (not needed for lagrange elements)\n",
    "            "
   ]
  },
  {
   "cell_type": "code",
   "execution_count": 4,
   "metadata": {},
   "outputs": [],
   "source": [
    "def loc_mat(nodes, ElFlag, Ndnode):   #Computes the element quantities when supplied with gloabl nodes\n",
    "    xi=GP.xi;W=GP.wght\n",
    "    if etypes=='L':\n",
    "        x = np.array(nB.Ns(xi)).T @ nodes\n",
    "        Je = np.array(nB.dN(xi)).T @ nodes\n",
    "        b1 = np.array(B.Ns(xi)).reshape(-1,1,W.size)\n",
    "        a1 = np.array(B.dN(xi)).reshape(-1,1,W.size)  \n",
    "        a2 = a1.reshape(1,len(a1),-1).copy()\n",
    "        b2 = b1.reshape(1,len(b1),-1).copy()\n",
    "        a1 *= E(x)/Je*geom.A*W       # multiply by weights, jacobian, A, in bitwise fashion \n",
    "        b1 *= geom.C*Je*W\n",
    "        mat = np.tensordot(a1, a2, axes=([1,2],[0,2])) #+ np.tensordot(b1,b2,axes=([1,2],[0,2]))     #could potentially use einsum to clean it up (but works for now!)\n",
    "        elemF = (np.array(B.Ns(xi))*W*Je*body_force(x)).sum(axis=1).flatten()\n",
    "        return mat, elemF\n",
    "\n",
    "def fsample(x, dof, nodes, sample_type): #giving out the displacement, strain and stress at x: GP and dof value of disp. at gauss point\n",
    "    #    print(sample_type)\n",
    "        if sample_type=='spline':\n",
    "            if int(El[1]) >5:\n",
    "                k0=5\n",
    "            else:\n",
    "                k0 = int(El[1])\n",
    "                dspl=splrep(nodes,dof,k=k0)\n",
    "                return (x,splev(x,dspl))\n",
    "        elif sample_type=='vandermonde':\n",
    "            Xinew = np.linspace(-1, 1-1.e-13, 20)\n",
    "            N = np.array(B.Ns(Xinew)).reshape(int(El[-1])+1, Xinew.size,-1)\n",
    "            N = np.einsum('jik',N)\n",
    "            Nx = np.array(nB.Ns(Xinew)).reshape(int(MapX[-1])+1,Xinew.size,-1)\n",
    "            Nx = np.einsum('jik', Nx)\n",
    "            dofarang = np.vstack((np.arange(k,k+dof.size-1,int(El[-1])) for k in range(int(El[-1])+1))) #arange dofs for multiplication with n\n",
    "            dofarang=dofarang.reshape(int(El[-1])+1,1,-1)\n",
    "            xarang = np.vstack((np.arange(k,k+nodes.size-1,int(MapX[-1])) for k in range(int(MapX[-1])+1)))\n",
    "            xarang = xarang.reshape(int(MapX[-1])+1, 1, -1)\n",
    "    #        print(dof.shape)\n",
    "    #        print(nodes.shape)\n",
    "            dofs=dof[dofarang]\n",
    "            nodesx=nodes[xarang]\n",
    "            soln = np.einsum('ikj,kmj->imj',N,dofs)\n",
    "            xpl = np.einsum('ikj,kmj->imj',Nx,nodesx)\n",
    "            return (xpl.T.ravel(),soln.T.ravel()) # return the solution evaluated at the given points"
   ]
  },
  {
   "cell_type": "code",
   "execution_count": null,
   "metadata": {},
   "outputs": [],
   "source": [
    "def E(x):\n",
    "    return 20*10**6\n",
    "\n",
    "def rho(x):\n",
    "    return 0.\n",
    "\n",
    "def f(x):\n",
    "    H = np.heaviside(x-1, 0) - np.heaviside(x-3, 0)\n",
    "    return H*0.1\n",
    "\n",
    "def body_force(x):\n",
    "    return rho(x)*geom.A*geom.g + f(x)"
   ]
  },
  {
   "cell_type": "code",
   "execution_count": null,
   "metadata": {},
   "outputs": [],
   "source": [
    "def uex(x):\n",
    "    inner = lambda s: rho(s)*geom.A*geom.g + f(s)\n",
    "    outer = lambda r: 1./(E(r)*geom.A) * (geom.m*geom.g + quad(inner, r, 1., limit=100)[0])\n",
    "    return quad(outer, 0, x, limit=100 )[0]\n",
    "\n",
    "def uevec(x):\n",
    "    kfac = (1.+1.e-17)\n",
    "    ue1 = lambda x: (0.000303522 - 1.91295*10**-7*x)*x\n",
    "    ue2 = lambda x: -0.000140877 + (0.000867028 - 1.89193*10**-7*x)*x\n",
    "    ue3 = lambda x: -5.17856*10**-6 + (0.000505167 - 1.89193*10**-7*x)*x + 0.000028796*np.cos(12.5664*x)\n",
    "    ue4 = lambda x: 0.000177656 + (0.000176933 - 1.91295*10**-7* x)* x + 0.0000100786*np.cos(12.5664* x)\n",
    "    ue5 =  lambda x: 0.000256813 + (0.000050282 - 1.91295*10**-7* x)* x\n",
    "    ue6 = lambda x: 0.000187178 + (0.000143127 - 1.89193*10**-7* x)* x\n",
    "    H1 = np.heaviside(x,0) - np.heaviside(x-0.25, 0)\n",
    "    H2 = np.heaviside(x-0.25,0) - np.heaviside(x-0.375, 0)\n",
    "    H3 = np.heaviside(x-0.375,0) - np.heaviside(x-0.5, 0)\n",
    "    H4 = np.heaviside(x-0.5, 0) - np.heaviside(x-0.625, 0)\n",
    "    H5 = np.heaviside(x-0.625, 0) - np.heaviside(x-0.75, 0)\n",
    "    H6 = np.heaviside(x-0.75, 0)\n",
    "    uexact = H1*ue1(x) + H2*ue2(x) + H3 * ue3(x) + H4 * ue4(x) + H5 * ue5(x) + H6*ue6(x)\n",
    "    return uexact"
   ]
  },
  {
   "cell_type": "code",
   "execution_count": null,
   "metadata": {},
   "outputs": [],
   "source": [
    "El = \"L1\"\n",
    "MapX = \"L1\"\n",
    "Nel = 2 #number of elements\n",
    "Np = 32\n",
    "etypes = El[0]\n",
    "if El[0]=='L':                   #1D Mapping function for the physical coordinates\n",
    "    nB=basis(int(MapX[-1]), MapX[0])\n",
    "    geom=geometry(Nel, int(MapX[-1])) \n",
    "    probsize=geometry(Nel, int(El[-1]))\n",
    "    B=basis(int(El[-1]), El[0])     #Basis for FE fields (isoparametric) \n",
    "    GP=GPXi(Np) \n",
    "    nodes = np.linspace(0.,geom.L,geom.nNNodes)\n",
    "    elems = np.vstack((np.arange(k,k+nodes.size-1, int(MapX[1])) for k in range(int(MapX[1])+1))).T\n",
    "    globK = 0*np.eye(probsize.nNNodes)   # This changes because now we no longer have iso-p map\n",
    "    globF = np.zeros(probsize.nNNodes)    \n",
    "    prescribed_dof=np.array([[0,0]])\n",
    "\n",
    "dof=np.inf*np.ones(globK.shape[0])\n",
    "prescribed_forc = np.array([[-1, geom.m*geom.g]])\n",
    "dof[prescribed_dof[:,0]] = prescribed_dof[:,1]"
   ]
  },
  {
   "cell_type": "code",
   "execution_count": null,
   "metadata": {},
   "outputs": [],
   "source": [
    "xvals = np.hstack((np.linspace(0,0.25,26),\n",
    "                   np.linspace(0.25,0.375, 26),\n",
    "                   np.linspace(0.375, 0.5, 26),\n",
    "                   np.linspace(0.5, 0.625, 26),\n",
    "                   np.linspace(0.625, 0.75, 26),\n",
    "                   np.linspace(0.75, 1, 52)))\n",
    "xvalsNew = np.linspace(0,1,51)\n",
    "uevals = uevec(xvals)\n",
    "# ue = np.array([uex(xv) for xv in xvalsNew], float)"
   ]
  },
  {
   "cell_type": "code",
   "execution_count": null,
   "metadata": {},
   "outputs": [],
   "source": [
    "plt.figure(figsize=(8,8))\n",
    "# plt.plot(xvalsNew, ue, '-b', lw=2)\n",
    "plt.plot(xvals, uevals, '-ro', lw=2, label=r\"Exact Solution: $\\widetilde{u}(x)$\", markevery=10)\n",
    "plt.xlabel(r\"$x$\", fontsize=24)\n",
    "plt.ylabel(r\"$\\widetilde{u}(x)$\", fontsize=24)\n",
    "plt.grid(which=\"major\", color=\"white\")\n",
    "plt.legend(loc=0, fontsize=22, fancybox=False, edgecolor=\"white\", shadow=True)"
   ]
  },
  {
   "cell_type": "code",
   "execution_count": null,
   "metadata": {},
   "outputs": [],
   "source": [
    "for k in range(elems[:,0].size): #Assembly of Global System\n",
    "    elflag = 'nn'\n",
    "    ndnode = 1\n",
    "    elnodes=elems[k]\n",
    "    if etypes=='L':\n",
    "        elemord=int(El[-1])+1     # basically selecting the corresponding dof\n",
    "        globdof = np.array([k*(elemord-1)+i for i in range(elemord)], int)\n",
    "#         print(globdof)\n",
    "    if etypes != '2D':                                                         # 1D lagrange or legendre polynomials \n",
    "        nodexy=nodes[elnodes]\n",
    "    else:\n",
    "        nodexy=nodexy[:,elnodes]\n",
    "    kel, fel = loc_mat(nodexy,elflag,ndnode)\n",
    "    globK[np.ix_(globdof,globdof)] += kel                                      #this process would change in vectorization \n",
    "    globF[globdof] += fel\n",
    "\n",
    "globF[int(prescribed_forc[:,0])] += prescribed_forc[:,1]    \n",
    "fdof=dof==np.inf                                                               # free dofs\n",
    "nfdof=np.invert(fdof)   \n",
    "if etypes=='L':  \n",
    "    AA=globK[np.ix_(fdof,fdof)]\n",
    "    bb=globF[fdof]-globK[np.ix_(fdof,nfdof)] @ dof[nfdof]                                                                           \n",
    "    dofme=nla.solve(AA, bb)\n",
    "dof[fdof]=dofme.copy()"
   ]
  },
  {
   "cell_type": "code",
   "execution_count": null,
   "metadata": {},
   "outputs": [],
   "source": [
    "xplot=np.linspace(0.,geom.L,10*geom.nNNodes-1)  #sampling points for the exact solution\n",
    "fittype='vandermonde'\n",
    "plot_it  = True"
   ]
  },
  {
   "cell_type": "code",
   "execution_count": null,
   "metadata": {},
   "outputs": [],
   "source": [
    "if plot_it:\n",
    "    if etypes=='L':\n",
    "        if fittype == 'spline':\n",
    "            xplot, uapp = fsample(xplot, dof[0:len(dof):int(El[1])], nodes[0:len(nodes):1], fittype)\n",
    "        elif fittype == 'vandermonde':\n",
    "            xplot, uapp = fsample(xplot, dof, nodes, fittype)\n",
    "        plt.figure(figsize=(8,8))\n",
    "        plt.plot(xplot, uapp,'-ro', lw=2 , label=r'$u^h_{0:1d}(x)$'.format(int(El[-1])), markevery=10)\n",
    "        plt.plot(xplot, uevec(xplot), \"b-\", lw=2, label=r\"$\\widetilde{{u}}(x)$\")\n",
    "        plt.legend(loc=0, fontsize=22, fancybox=False, edgecolor=\"white\", shadow=True)\n",
    "        plt.ylabel(r\"$u^h_{0:1d}(x)/\\widetilde{{u}}(x)$\".format(int(El[-1])), fontsize=24)\n",
    "        plt.xlabel(r\"$x$\", fontsize=24)\n",
    "        plt.grid(which=\"major\", color=\"white\")"
   ]
  },
  {
   "cell_type": "code",
   "execution_count": null,
   "metadata": {},
   "outputs": [],
   "source": [
    "import numpy as np\n",
    "import numpy.linalg as nla\n",
    "import matplotlib.pyplot as plt"
   ]
  },
  {
   "cell_type": "code",
   "execution_count": null,
   "metadata": {},
   "outputs": [],
   "source": []
  },
  {
   "cell_type": "code",
   "execution_count": null,
   "metadata": {},
   "outputs": [],
   "source": []
  }
 ],
 "metadata": {
  "kernelspec": {
   "display_name": "Python 3",
   "language": "python",
   "name": "python3"
  },
  "language_info": {
   "codemirror_mode": {
    "name": "ipython",
    "version": 3
   },
   "file_extension": ".py",
   "mimetype": "text/x-python",
   "name": "python",
   "nbconvert_exporter": "python",
   "pygments_lexer": "ipython3",
   "version": "3.7.5"
  }
 },
 "nbformat": 4,
 "nbformat_minor": 2
}
