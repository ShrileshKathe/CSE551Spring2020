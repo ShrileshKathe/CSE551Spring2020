{
 "cells": [
  {
   "cell_type": "code",
   "execution_count": 2,
   "metadata": {},
   "outputs": [],
   "source": [
    "import numpy as np\n",
    "import numpy.linalg as nla\n",
    "import matplotlib.pyplot as plt\n",
    "from scipy.interpolate import splrep, splev\n",
    "from scipy.integrate import quad\n",
    "from sympy import init_printing, Symbol, Matrix, simplify, lambdify, Array, diff, symbols, integrate, exp, sqrt\n",
    "from numpy.polynomial.legendre import leggauss  #Gauss-Legendre Quadrature for 1D\n",
    "# from jupyterthemes import jtplot\n",
    "# jtplot.style()\n",
    "init_printing()\n",
    "plt.rc('text', usetex=True)\n",
    "plt.rcParams['font.weight'] = 700\n",
    "plt.rcParams['xtick.top']='True'\n",
    "plt.rcParams['xtick.direction']='in'\n",
    "plt.rcParams['ytick.right']='True'\n",
    "plt.rcParams['ytick.direction']='in'\n",
    "plt.rcParams['ytick.labelsize']=22\n",
    "plt.rcParams['xtick.labelsize']=22\n",
    "plt.rcParams['xtick.minor.visible']=True\n",
    "plt.rcParams['ytick.minor.visible']=True\n",
    "plt.rcParams['xtick.major.size']=6\n",
    "plt.rcParams['xtick.minor.size']=3\n",
    "plt.rcParams['ytick.major.size']=6\n",
    "plt.rcParams['ytick.minor.size']=3\n",
    "plt.rcParams['lines.markersize']=np.sqrt(36)\n",
    "plt.rc('text',usetex=True)\n",
    "plt.rcParams['text.latex.preamble']=[r\"\\usepackage{amsmath,amsfonts,amssymb,bm}\"]"
   ]
  },
  {
   "cell_type": "code",
   "execution_count": null,
   "metadata": {},
   "outputs": [],
   "source": [
    "# Computing the exact solution\n",
    "x, r, xi, Ao, l, rhO, g, E, m, L = symbols(\"x, r, xi, Ao, l, rhO, g, E, m, L\", real=True)\n",
    "area = lambda x: Ao*exp(-x/l)\n",
    "bf = lambda x: -rhO * area(x) * g\n",
    "innerIntegral = lambda r: simplify(integrate(bf(xi), (xi, L, r)))\n",
    "usol = simplify(-integrate(1./E/area(r)*innerIntegral(r), (r,0,x)) -m*g/E*integrate(1/area(r), (r,0,x)))"
   ]
  },
  {
   "cell_type": "code",
   "execution_count": null,
   "metadata": {},
   "outputs": [],
   "source": [
    "class geometry():\n",
    "    def __init__(self, ne, deg):\n",
    "        self.L = 324.\n",
    "        self.g = 9.81\n",
    "        self.E = 5.e8\n",
    "        self.m = 2.e4\n",
    "        self.l = 90.\n",
    "        self.Ao = 120.**2\n",
    "        self.rho = 1500.\n",
    "        self.nNNodes=int(ne*deg+1)   #Isoparametric deg-th order lagrange elements\n",
    "        self.ndim=1\n",
    "        self.nLNodes=ne+1       #Linear elements\n",
    "        self.nQNodes=2*ne+1"
   ]
  },
  {
   "cell_type": "code",
   "execution_count": null,
   "metadata": {},
   "outputs": [],
   "source": [
    "geom=geometry(2, 2)\n",
    "usol = usol.subs([(Ao, geom.Ao), (rhO, geom.rho), (L, geom.L), (g, geom.g),\n",
    "                  (m, geom.m), (E, geom.E), (l, geom.l)])\n",
    "usol"
   ]
  },
  {
   "cell_type": "code",
   "execution_count": null,
   "metadata": {},
   "outputs": [],
   "source": [
    "sqrt(integrate(usol.diff(x)**2, (x, 0, geom.L)))"
   ]
  },
  {
   "cell_type": "code",
   "execution_count": null,
   "metadata": {},
   "outputs": [],
   "source": [
    "from sympy import plot\n",
    "plot(-usol, (x, 0, geom.L))"
   ]
  },
  {
   "cell_type": "code",
   "execution_count": null,
   "metadata": {},
   "outputs": [],
   "source": [
    "uplot = lambdify(x, usol, \"numpy\")"
   ]
  },
  {
   "cell_type": "code",
   "execution_count": null,
   "metadata": {},
   "outputs": [],
   "source": [
    "class GPXi():\n",
    "    def __init__(self, ordr):\n",
    "        self.xi=leggauss(ordr)[0]\n",
    "        self.wght=leggauss(ordr)[1]"
   ]
  },
  {
   "cell_type": "code",
   "execution_count": null,
   "metadata": {},
   "outputs": [],
   "source": [
    "class basis(): # defined on the canonical (master) element (1D : [-1,1] ) \n",
    "    def __init__(self,deg,basis_type):\n",
    "        deg = int(deg)\n",
    "        if basis_type == 'L':          # 1D Lagrange basis of degree `deg`\n",
    "            z=Symbol('z')\n",
    "            Xi=np.linspace(-1,1,deg+1)\n",
    "            def lag_basis(k):\n",
    "                n = 1.\n",
    "                for i in range(len(Xi)):\n",
    "                    if k != i:\n",
    "                        n *= (z-Xi[i])/(Xi[k]-Xi[i])\n",
    "                return n\n",
    "            N = Array([simplify(lag_basis(m)) for m in range(deg+1)])            \n",
    "            dfN = diff(N,z)+1.e-25*N\n",
    "            self.Ns=lambdify(z, N, \"numpy\")\n",
    "            self.dN=lambdify(z, dfN, \"numpy\")\n",
    "            self.enrich = 1  #enriched dofs (not needed for lagrange elements)"
   ]
  },
  {
   "cell_type": "code",
   "execution_count": null,
   "metadata": {},
   "outputs": [],
   "source": [
    "xpl_shp = np.linspace(-1,1,101)\n",
    "nBasisPlot = basis(1, \"L\")\n",
    "N = nBasisPlot.Ns(xpl_shp)\n",
    "plt.figure()\n",
    "plt.plot(xpl_shp, N[0])\n",
    "plt.plot(xpl_shp, N[1])\n",
    "# plt.plot(xpl_shp, N[2])\n",
    "# plt.plot(xpl_shp, N[3])"
   ]
  },
  {
   "cell_type": "code",
   "execution_count": null,
   "metadata": {},
   "outputs": [],
   "source": [
    "def loc_mat(nodes, ElFlag, Ndnode):   #Computes the element quantities when supplied with gloabl nodes\n",
    "    xi=GP.xi;W=GP.wght\n",
    "    if etypes=='L':\n",
    "        x = np.array(nB.Ns(xi)).T @ nodes\n",
    "        Je = np.array(nB.dN(xi)).T @ nodes\n",
    "        a1 = np.array(B.dN(xi)).reshape(-1,1,W.size)  \n",
    "        a2 = a1.reshape(1,len(a1),-1).copy()\n",
    "        a1 *= geom.E/Je*A(x)*W       # multiply by weights, jacobian, A, in bitwise fashion \n",
    "        mat = np.tensordot(a1, a2, axes=([1,2],[0,2])) #+ np.tensordot(b1,b2,axes=([1,2],[0,2]))     #could potentially use einsum to clean it up (but works for now!)\n",
    "        elemF = (np.array(B.Ns(xi))*W*Je*body_force(x)).sum(axis=1).flatten()\n",
    "        return mat, elemF\n",
    "\n",
    "def fsample(x, dof, nodes, sample_type): #giving out the displacement, strain and stress at x: GP and dof value of disp. at gauss point\n",
    "    if sample_type=='spline':\n",
    "        if int(El[1]) >5:\n",
    "            k0=5\n",
    "        else:\n",
    "            k0 = int(El[1])\n",
    "        dspl=splrep(nodes,dof,k=k0)\n",
    "        return (x,splev(x,dspl))\n",
    "    elif sample_type=='vandermonde':\n",
    "        Xinew = np.linspace(-1, 1-1.e-13, 20)\n",
    "        N = np.array(B.Ns(Xinew)).reshape(int(El[-1])+1, Xinew.size,-1)\n",
    "        N = np.einsum('jik',N)\n",
    "        Nx = np.array(nB.Ns(Xinew)).reshape(int(MapX[-1])+1,Xinew.size,-1)\n",
    "        Nx = np.einsum('jik', Nx)\n",
    "        dofarang = np.vstack((np.arange(k,k+dof.size-1,int(El[-1])) for k in range(int(El[-1])+1))) #arange dofs for multiplication with n\n",
    "        dofarang=dofarang.reshape(int(El[-1])+1,1,-1)\n",
    "        xarang = np.vstack((np.arange(k,k+nodes.size-1,int(MapX[-1])) for k in range(int(MapX[-1])+1)))\n",
    "        xarang = xarang.reshape(int(MapX[-1])+1, 1, -1)\n",
    "        dofs=dof[dofarang]\n",
    "        nodesx=nodes[xarang]\n",
    "        soln = np.einsum('ikj,kmj->imj',N,dofs)\n",
    "        xpl = np.einsum('ikj,kmj->imj',Nx,nodesx)\n",
    "        return (xpl.T.ravel(),soln.T.ravel()) # return the solution evaluated at the given points"
   ]
  },
  {
   "cell_type": "code",
   "execution_count": null,
   "metadata": {},
   "outputs": [],
   "source": [
    "def A(x):\n",
    "    return geom.Ao*np.exp(-x/geom.l)\n",
    "\n",
    "def body_force(x):\n",
    "    return -geom.rho*A(x)*geom.g"
   ]
  },
  {
   "cell_type": "code",
   "execution_count": null,
   "metadata": {},
   "outputs": [],
   "source": [
    "El = \"L2\"\n",
    "MapX = \"L1\"\n",
    "Nel = 2 #number of elements\n",
    "Np = 32\n",
    "etypes = El[0]"
   ]
  },
  {
   "cell_type": "code",
   "execution_count": null,
   "metadata": {},
   "outputs": [],
   "source": [
    "if El[0]=='L':                   #1D Mapping function for the physical coordinates\n",
    "    nB=basis(int(MapX[-1]), MapX[0])\n",
    "    geom=geometry(Nel, int(MapX[-1])) \n",
    "    probsize=geometry(Nel, int(El[-1]))\n",
    "    B=basis(int(El[-1]), El[0])     #Basis for FE fields (isoparametric) \n",
    "    GP=GPXi(Np) \n",
    "    nodes = np.linspace(0.,geom.L,geom.nNNodes)\n",
    "    elems = np.vstack((np.arange(k,k+nodes.size-1, int(MapX[1])) for k in range(int(MapX[1])+1))).T\n",
    "    globK = 0*np.eye(probsize.nNNodes)   # This changes because now we no longer have iso-p map\n",
    "    globF = np.zeros(probsize.nNNodes)    \n",
    "    prescribed_dof=np.array([[0,0]])\n",
    "\n",
    "dof=np.inf*np.ones(globK.shape[0])\n",
    "prescribed_forc = np.array([[-1, -geom.m*geom.g]])\n",
    "dof[prescribed_dof[:,0]] = prescribed_dof[:,1]"
   ]
  },
  {
   "cell_type": "code",
   "execution_count": null,
   "metadata": {},
   "outputs": [],
   "source": [
    "for k in range(elems[:,0].size): #Assembly of Global System\n",
    "    elflag = 'nn'\n",
    "    ndnode = 1\n",
    "    elnodes=elems[k]\n",
    "    if etypes=='L':\n",
    "        elemord=int(El[-1])+1     # basically selecting the corresponding dof\n",
    "        globdof = np.array([k*(elemord-1)+i for i in range(elemord)], int)\n",
    "#         print(globdof)\n",
    "    if etypes != '2D':                                                         # 1D lagrange or legendre polynomials \n",
    "        nodexy=nodes[elnodes]\n",
    "    else:\n",
    "        nodexy=nodexy[:,elnodes]\n",
    "    kel, fel = loc_mat(nodexy,elflag,ndnode)\n",
    "    globK[np.ix_(globdof,globdof)] += kel                                      #this process would change in vectorization \n",
    "    globF[globdof] += fel\n",
    "\n",
    "globF[int(prescribed_forc[:,0])] += prescribed_forc[:,1]    \n",
    "fdof=dof==np.inf                                                               # free dofs\n",
    "nfdof=np.invert(fdof)   \n",
    "if etypes=='L':  \n",
    "    AA=globK[np.ix_(fdof,fdof)]\n",
    "    bb=globF[fdof]-globK[np.ix_(fdof,nfdof)] @ dof[nfdof]                                                                           \n",
    "    dofme=nla.solve(AA, bb)\n",
    "dof[fdof]=dofme.copy()"
   ]
  },
  {
   "cell_type": "code",
   "execution_count": null,
   "metadata": {},
   "outputs": [],
   "source": [
    "xplot=np.linspace(0.,geom.L,10*geom.nNNodes-1)  #sampling points for the exact solution\n",
    "fittype='vandermonde'\n",
    "plot_it  = True"
   ]
  },
  {
   "cell_type": "code",
   "execution_count": null,
   "metadata": {},
   "outputs": [],
   "source": [
    "if plot_it:\n",
    "    if etypes=='L':\n",
    "        if fittype == 'spline':\n",
    "            xplot, uapp = fsample(xplot, dof[0:len(dof):int(El[1])], nodes[0:len(nodes):1], fittype)\n",
    "        elif fittype == 'vandermonde':\n",
    "            xplot, uapp = fsample(xplot, dof, nodes, fittype)"
   ]
  },
  {
   "cell_type": "code",
   "execution_count": null,
   "metadata": {},
   "outputs": [],
   "source": [
    "uexact = list(map(uplot, xplot))\n",
    "uexact = -1*np.array(uexact)"
   ]
  },
  {
   "cell_type": "code",
   "execution_count": null,
   "metadata": {},
   "outputs": [],
   "source": [
    "plt.figure(figsize=(8,8))\n",
    "plt.plot(xplot, uexact, \"b-\", lw=2, label=r\"$\\widetilde{{u}}(x)$\")\n",
    "plt.plot(xplot, -uapp,'--r', lw=2 , label=r'$u^h_{0:1d}(x)$'.format(int(El[-1])), markevery=4)\n",
    "plt.legend(loc=0, fontsize=22, fancybox=False, edgecolor=\"white\", shadow=True)\n",
    "plt.ylabel(r\"$u^h_{0:1d}(x)/\\widetilde{{u}}(x)$\".format(int(El[-1])), fontsize=24)\n",
    "plt.xlabel(r\"$x$\", fontsize=24)\n",
    "plt.grid(which=\"major\", color=\"white\")"
   ]
  },
  {
   "cell_type": "code",
   "execution_count": null,
   "metadata": {},
   "outputs": [],
   "source": []
  }
 ],
 "metadata": {
  "kernelspec": {
   "display_name": "Python 3",
   "language": "python",
   "name": "python3"
  },
  "language_info": {
   "codemirror_mode": {
    "name": "ipython",
    "version": 3
   },
   "file_extension": ".py",
   "mimetype": "text/x-python",
   "name": "python",
   "nbconvert_exporter": "python",
   "pygments_lexer": "ipython3",
   "version": "3.7.5"
  }
 },
 "nbformat": 4,
 "nbformat_minor": 2
}
