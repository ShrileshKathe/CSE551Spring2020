{
 "cells": [
  {
   "cell_type": "code",
   "execution_count": 1,
   "metadata": {},
   "outputs": [],
   "source": [
    "import numpy as np\n",
    "from scipy.optimize import root\n",
    "import matplotlib.pyplot as plt\n",
    "from jupyterthemes import jtplot\n",
    "jtplot.style()"
   ]
  },
  {
   "cell_type": "code",
   "execution_count": 2,
   "metadata": {},
   "outputs": [],
   "source": [
    "import quadpy"
   ]
  },
  {
   "cell_type": "code",
   "execution_count": 170,
   "metadata": {},
   "outputs": [],
   "source": [
    "scheme = quadpy.triangle.hammer_marlowe_stroud_2()"
   ]
  },
  {
   "cell_type": "code",
   "execution_count": 171,
   "metadata": {},
   "outputs": [
    {
     "data": {
      "text/plain": [
       "array([[0.66666667, 0.16666667, 0.16666667],\n",
       "       [0.16666667, 0.66666667, 0.16666667],\n",
       "       [0.16666667, 0.16666667, 0.66666667]])"
      ]
     },
     "execution_count": 171,
     "metadata": {},
     "output_type": "execute_result"
    }
   ],
   "source": [
    "scheme.points"
   ]
  },
  {
   "cell_type": "code",
   "execution_count": 172,
   "metadata": {},
   "outputs": [
    {
     "data": {
      "text/plain": [
       "array([0.33333333, 0.33333333, 0.33333333])"
      ]
     },
     "execution_count": 172,
     "metadata": {},
     "output_type": "execute_result"
    }
   ],
   "source": [
    "scheme.weights"
   ]
  },
  {
   "cell_type": "code",
   "execution_count": 29,
   "metadata": {},
   "outputs": [],
   "source": [
    "from sympy import symbols, simplify, diff, init_printing, integrate, solve, lambdify\n",
    "init_printing()"
   ]
  },
  {
   "cell_type": "code",
   "execution_count": 12,
   "metadata": {},
   "outputs": [],
   "source": [
    "xi, eta = symbols(\"xi, eta\", real=True)"
   ]
  },
  {
   "cell_type": "code",
   "execution_count": 146,
   "metadata": {},
   "outputs": [],
   "source": [
    "N = [(1+1.e-19*xi), xi, eta, xi*eta, xi**2, eta**2]"
   ]
  },
  {
   "cell_type": "code",
   "execution_count": 147,
   "metadata": {},
   "outputs": [],
   "source": [
    "integrals = [integrate(integrate(N[i],(xi, 0, 1-eta)), (eta, 0, 1)) for i in range(len(N))]\n",
    "numIntegrals = np.array(integrals, float)"
   ]
  },
  {
   "cell_type": "markdown",
   "metadata": {},
   "source": [
    "#### Quadrature rule 1: (symmetry arguments)\n",
    "Let ($\\xi_i$, $\\eta_i$) be the coordinates of the gauss points and $\\omega_j$ be the weights."
   ]
  },
  {
   "cell_type": "code",
   "execution_count": 148,
   "metadata": {},
   "outputs": [
    {
     "data": {
      "text/plain": [
       "array([0.5       , 0.16666667, 0.16666667, 0.04166667, 0.08333333,\n",
       "       0.08333333])"
      ]
     },
     "execution_count": 148,
     "metadata": {},
     "output_type": "execute_result"
    }
   ],
   "source": [
    "numIntegrals"
   ]
  },
  {
   "cell_type": "code",
   "execution_count": 149,
   "metadata": {},
   "outputs": [],
   "source": [
    "Nlam = [lambdify((xi, eta), N[i], \"numpy\") for i in range(len(N))]"
   ]
  },
  {
   "cell_type": "code",
   "execution_count": 224,
   "metadata": {},
   "outputs": [],
   "source": [
    "def getPointsWeights(z):\n",
    "    Xi, Eta, W = z[:2], z[2:4], z[4:]\n",
    "    Xi = np.hstack((Xi, Eta[-1]))\n",
    "    Eta = np.hstack((Eta, Xi[-2]))\n",
    "    W = np.hstack((W, W[0]))\n",
    "    arr = []\n",
    "    for i in range(len(numIntegrals)):\n",
    "        arr.append(0.5*Nlam[i](Xi, Eta) @ W - numIntegrals[i])\n",
    "    return arr[:]"
   ]
  },
  {
   "cell_type": "code",
   "execution_count": 225,
   "metadata": {},
   "outputs": [],
   "source": [
    "# guess = np.array([0.5,0.5,0.5,0.,1,1])\n",
    "guess = np.random.random(6)"
   ]
  },
  {
   "cell_type": "code",
   "execution_count": 226,
   "metadata": {},
   "outputs": [
    {
     "data": {
      "image/png": "[encoded data removed]",
      "text/latex": [
       "$\\displaystyle \\left[ 0.03601241922658738, \\  0.3166557230079008, \\  0.2695892075642182, \\  0.3642463041060502, \\  0.3561077937852833, \\  0.31552297954297187\\right]$"
      ],
      "text/plain": [
       "[0.03601241922658738, 0.3166557230079008, 0.2695892075642182, 0.36424630410605\n",
       "02, 0.3561077937852833, 0.31552297954297187]"
      ]
     },
     "execution_count": 226,
     "metadata": {},
     "output_type": "execute_result"
    }
   ],
   "source": [
    "getPointsWeights(guess)"
   ]
  },
  {
   "cell_type": "code",
   "execution_count": 227,
   "metadata": {},
   "outputs": [
    {
     "data": {
      "text/plain": [
       "    fjac: array([[ 1.11728026e-09, -7.19527370e-01, -6.98762841e-03,\n",
       "        -1.96043878e-01, -6.64973123e-01, -4.01133460e-02],\n",
       "       [ 3.08287235e-09, -3.09286375e-01, -5.64989366e-01,\n",
       "        -4.47518098e-01,  4.46554857e-01,  4.30633565e-01],\n",
       "       [ 2.80890608e-09, -2.20428584e-01,  6.16944960e-01,\n",
       "         1.95214925e-01,  1.31167214e-01,  7.17966887e-01],\n",
       "       [-8.83145620e-09, -1.22318379e-01, -5.14643744e-01,\n",
       "         8.15705263e-01, -1.15020551e-01,  2.03900044e-01],\n",
       "       [ 9.75295749e-01,  1.25560031e-01, -4.14797834e-02,\n",
       "        -5.31134926e-02, -1.26507312e-01,  1.11745987e-01],\n",
       "       [ 2.20903152e-01, -5.54352266e-01,  1.83134788e-01,\n",
       "         2.34498111e-01,  5.58534547e-01, -4.93362755e-01]])\n",
       "     fun: array([ 0.00000000e+00,  4.39648318e-14, -2.53963517e-14, -4.05855904e-14,\n",
       "       -3.27238237e-14,  1.40304435e-14])\n",
       " message: 'The solution converged.'\n",
       "    nfev: 106\n",
       "     qtf: array([ 1.85384176e-12,  1.95018339e-12,  3.87491795e-12, -3.88253610e-13,\n",
       "        7.27785451e-13, -3.21345162e-12])\n",
       "       r: array([-0.20284536, -0.14483429, -0.02215688, -0.16324422, -0.57182147,\n",
       "       -0.05575939, -0.23796828, -0.07801944, -0.00761354, -0.16448447,\n",
       "       -0.1123183 ,  0.16886147,  0.13556302,  0.22922495,  0.21581684,\n",
       "       -0.14535221, -0.11484139, -0.09305049,  1.02533001,  0.48529926,\n",
       "        0.12082081])\n",
       "  status: 1\n",
       " success: True\n",
       "       x: array([ 5.00000000e-01, -4.34075276e-15,  5.00000000e-01,  5.00000000e-01,\n",
       "        3.33333333e-01,  3.33333333e-01])"
      ]
     },
     "execution_count": 227,
     "metadata": {},
     "output_type": "execute_result"
    }
   ],
   "source": [
    "soln = root(getPointsWeights, guess, method=\"hybr\", tol=1.e-8)\n",
    "soln"
   ]
  },
  {
   "cell_type": "code",
   "execution_count": 228,
   "metadata": {},
   "outputs": [
    {
     "data": {
      "text/plain": [
       "array([ 5.00000000e-01, -4.34075276e-15,  5.00000000e-01,  5.00000000e-01,\n",
       "        3.33333333e-01])"
      ]
     },
     "execution_count": 228,
     "metadata": {},
     "output_type": "execute_result"
    }
   ],
   "source": [
    "soln.x[:-1]"
   ]
  },
  {
   "cell_type": "markdown",
   "metadata": {},
   "source": [
    "#### Problem 2\n",
    " $$\\int_T (2-x - 2 y + 3 x^2 + 4xy - 2y^2) $$"
   ]
  },
  {
   "cell_type": "code",
   "execution_count": 231,
   "metadata": {},
   "outputs": [],
   "source": [
    "x1, x2, x3 = 0, 1, 0\n",
    "y1, y2, y3 = 0, 1/2. , 1"
   ]
  },
  {
   "cell_type": "code",
   "execution_count": 232,
   "metadata": {},
   "outputs": [],
   "source": [
    "x, y = symbols(\"x, y\", real=True)"
   ]
  },
  {
   "cell_type": "code",
   "execution_count": 233,
   "metadata": {},
   "outputs": [],
   "source": [
    "x = xi*x1 + eta*x2 + (1-xi-eta)*x3\n",
    "y = xi*y1 + eta*y2 + (1-xi-eta)*y3"
   ]
  },
  {
   "cell_type": "code",
   "execution_count": 237,
   "metadata": {},
   "outputs": [],
   "source": [
    "from sympy import Matrix\n",
    "J = Matrix([[x.diff(xi), x.diff(eta)], [y.diff(xi), y.diff(eta)]])"
   ]
  },
  {
   "cell_type": "code",
   "execution_count": 239,
   "metadata": {},
   "outputs": [],
   "source": [
    "f = 2 - x - 2*y + 3*x**2 + 4*x*y - 2*y**2"
   ]
  },
  {
   "cell_type": "code",
   "execution_count": 249,
   "metadata": {},
   "outputs": [],
   "source": [
    "Aexact = integrate(integrate(f*J.det(), (xi, 0, 1-eta)), (eta, 0, 1))"
   ]
  },
  {
   "cell_type": "code",
   "execution_count": 250,
   "metadata": {},
   "outputs": [
    {
     "data": {
      "image/png": "[encoded data removed]",
      "text/latex": [
       "$\\displaystyle 3.33066907387547 \\cdot 10^{-16}$"
      ],
      "text/plain": [
       "3.33066907387547e-16"
      ]
     },
     "execution_count": 250,
     "metadata": {},
     "output_type": "execute_result"
    }
   ],
   "source": [
    "xiv, etav, _ = scheme.points.T\n",
    "Anum = 0\n",
    "for i in range(xiv.shape[0]):\n",
    "    Anum += (f*J.det()).subs([(xi, xiv[i]), (eta, etav[i])])*scheme.weights[i]\n",
    "simplify(Aexact - 1./2*Anum)"
   ]
  },
  {
   "cell_type": "code",
   "execution_count": null,
   "metadata": {},
   "outputs": [],
   "source": []
  }
 ],
 "metadata": {
  "kernelspec": {
   "display_name": "Python 3",
   "language": "python",
   "name": "python3"
  },
  "language_info": {
   "codemirror_mode": {
    "name": "ipython",
    "version": 3
   },
   "file_extension": ".py",
   "mimetype": "text/x-python",
   "name": "python",
   "nbconvert_exporter": "python",
   "pygments_lexer": "ipython3",
   "version": "3.6.9"
  }
 },
 "nbformat": 4,
 "nbformat_minor": 2
}
