{
 "cells": [
  {
   "cell_type": "code",
   "execution_count": 12,
   "metadata": {},
   "outputs": [],
   "source": [
    "import numpy as np\n",
    "import matplotlib.pyplot as plt\n",
    "import quadpy as qd\n",
    "from scipy.interpolate import splrep, splev\n",
    "from scipy.integrate import quad\n",
    "from sympy import init_printing, Symbol, Matrix, simplify, lambdify\n",
    "init_printing()\n",
    "plt.rc('text', usetex=True)"
   ]
  },
  {
   "cell_type": "code",
   "execution_count": 7,
   "metadata": {},
   "outputs": [],
   "source": [
    "# geometry and material parameters\n",
    "class geometry1D():\n",
    "    def __init__(self, ne, deg):\n",
    "        self.L = 1.e-4\n",
    "        self.g = 9.81\n",
    "        self.A = 10**-4*np.pi\n",
    "        self.m = 320.\n",
    "        self.C = 0.\n",
    "        self.nNNodes=int(ne*deg+1)   #Isoparametric deg-th order lagrange elements\n",
    "        self.ndim=1\n",
    "\n",
    "class GPXi():\n",
    "    def __init__(self, ordr):\n",
    "        from numpy.polynomial.legendre import leggauss                         #Gauss-Legendre Quadrature for 1D\n",
    "        self.xi=leggauss(ordr)[0]\n",
    "        self.wght=leggauss(ordr)[1]\n",
    "\n",
    "class basis():                                                                 # defined on the canonical element (1D : [-1,1] ) \n",
    "    def __init__(self,deg,basis_type):\n",
    "        deg = int(deg)\n",
    "        if basis_type == 'L':          # 1D Lagrange basis of degree `deg`\n",
    "            z=Symbol('z')\n",
    "            Xi=np.linspace(-1,1,deg+1)\n",
    "            def lag_basis(k):\n",
    "                n = 1.\n",
    "                for i in range(len(Xi)):\n",
    "                    if k != i:\n",
    "                        n *= (z-Xi[i])/(Xi[k]-Xi[i])\n",
    "                return n\n",
    "            N = Array([simplify(lag_basis(m)) for m in range(deg+1)])            \n",
    "            dfN = diff(N,z)+1.e-25*N\n",
    "            self.Ns=lambdify(z, N, \"numpy\")\n",
    "            self.dN=lambdify(z, dfN, \"numpy\")\n",
    "\n",
    "def loc_mat(nodes,ElFlag,Ndnode):   #Computes the element quantities when supplied with gloabl nodes\n",
    "    xi=GP.xi;W=GP.wght\n",
    "    \n",
    "    if etypes=='L':\n",
    "        x = np.array(nB.Ns(xi)).T @ nodes\n",
    "        Je = np.array(nB.dN(xi)).T @ nodes\n",
    "        b1 = np.array(B.Ns(xi)).reshape(-1,1,W.size)\n",
    "        a1 = np.array(B.dN(xi)).reshape(-1,1,W.size)  \n",
    "        a2 = a1.reshape(1,len(a1),-1).copy()\n",
    "        b2 = b1.reshape(1,len(b1),-1).copy()\n",
    "        a1 *= E(x)/Je*geom.A*W       # multiply by weights, jacobian, A, in bitwise fashion \n",
    "        b1 *= geom.C*Je*W\n",
    "        mat = np.tensordot(a1,a2,axes=([1,2],[0,2])) + np.tensordot(b1,b2,axes=([1,2],[0,2]))     #could potentially use einsum to clean it up (but works for now!)\n",
    "        elemF = (np.array(B.Ns(xi))*W*Je*body_force(x)).sum(axis=1).flatten()\n",
    "        return mat, elemF\n",
    "\n",
    "\n",
    "def E(x):\n",
    "    if 0. < x < 0.25 or 0.5 <= x < 0.75:\n",
    "        return 200*10**9\n",
    "    else:\n",
    "        return 70*10**9\n",
    "\n",
    "def rho(x):\n",
    "    if 0. < x < 0.25 or 0.5 <= x < 0.75:\n",
    "        return 7800.\n",
    "    else:\n",
    "        return 2700.\n",
    "\n",
    "def f(x):\n",
    "    if 0.375 <= x < 0.625:\n",
    "        return 10**5*np.cos(4.*np.pi*(x-0.5))\n",
    "    else:\n",
    "        return 0.\n",
    "\n",
    "def body_force(x):\n",
    "    return rho(x)*geom.A*geom.g + f(x)\n",
    "\n",
    "\n",
    "def uex(x):\n",
    "    \n",
    "    inner = lambda s: rho(s)*geom.A*geom.g + f(s)\n",
    "    outer = lambda r: 1./(E(r)*geom.A) * (geom.m*geom.g + quad(inner, r, 1., limit=100)[0])\n",
    "    return quad(outer, 0, x, limit=100 )[0]\n",
    "\n",
    "def uevec(x):\n",
    "    \n",
    "    inner = lambda s: rho(s)*geom.A*geom.g + f(s)\n",
    "    outer = lambda r: 1./(E(r)*geom.A) * (geom.m*geom.g + qd.quad(inner, r, 1.)[0])\n",
    "    return qd.quad(outer, 0, x)[0]\n",
    "        "
   ]
  },
  {
   "cell_type": "code",
   "execution_count": 4,
   "metadata": {},
   "outputs": [],
   "source": [
    "geom = geometry1D(2, 1)"
   ]
  },
  {
   "cell_type": "code",
   "execution_count": 9,
   "metadata": {},
   "outputs": [],
   "source": [
    "xvals = np.linspace(0,1,50)\n",
    "# uevec = uevec(xvals)\n",
    "ue = np.array([uex(xv) for xv in xvals], float)"
   ]
  },
  {
   "cell_type": "code",
   "execution_count": 15,
   "metadata": {},
   "outputs": [
    {
     "data": {
      "image/png": "[encoded data removed]",
      "text/plain": [
       "<Figure size 576x576 with 1 Axes>"
      ]
     },
     "metadata": {
      "needs_background": "light"
     },
     "output_type": "display_data"
    }
   ],
   "source": [
    "plt.figure(figsize=(8,8))\n",
    "plt.plot(xvals, ue, '-ro', markevery=5)\n",
    "plt.xlabel(r\"$x$\", fontsize=20)\n",
    "plt.ylabel(r\"$u_{ex}(x)$\", fontsize=20)\n",
    "plt.grid(which=\"major\")"
   ]
  },
  {
   "cell_type": "code",
   "execution_count": null,
   "metadata": {},
   "outputs": [],
   "source": []
  }
 ],
 "metadata": {
  "kernelspec": {
   "display_name": "Python 3",
   "language": "python",
   "name": "python3"
  },
  "language_info": {
   "codemirror_mode": {
    "name": "ipython",
    "version": 3
   },
   "file_extension": ".py",
   "mimetype": "text/x-python",
   "name": "python",
   "nbconvert_exporter": "python",
   "pygments_lexer": "ipython3",
   "version": "3.6.9"
  }
 },
 "nbformat": 4,
 "nbformat_minor": 2
}
